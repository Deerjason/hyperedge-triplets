{
 "cells": [
  {
   "cell_type": "code",
   "execution_count": null,
   "metadata": {},
   "outputs": [],
   "source": [
    "from max_triplet import *"
   ]
  },
  {
   "attachments": {},
   "cell_type": "markdown",
   "metadata": {},
   "source": [
    "## Maximum Hyperedge Triplets\n",
    "\n",
    "In hypergraphs, hyperedge triplets are sequence-independent sets of three unique hyperedges. Hyperedge triplets vary in their connectivity patterns. In the following figure, we show the venn diagram of three hyperedges where each region represents the intersection between its corresponding hyperedges. We denote the three green regions as the *independent* regions, the three blue regions as the *disjoint* regions, and the red region as the *common* region.\n",
    "\n",
    "<img src=\"images/ShadedTriplet.png\" width=\"100\" align=\"left\" style=\"margin-right:10px\">\n",
    "\n",
    "Maximum hyperedge triplets are based on their independent, disjoint, and common weights.\n",
    "These weights correspond to the three hyperedges which \n",
    "(1) are the least correlated with one another, \n",
    "(2) have the highest pairwise but not groupwise correlation, and \n",
    "(3) are the most correlated with one another, respectively.\n",
    "We find maximum hyperedge triplets by iterating through hyperedges which can exceed the current maximum weight.\n",
    "\n",
    "For a detailed explanation of maximum hyperedge triplets and the algorithms see: \n",
    "*Size-Aware Hyperedge Motifs*. \n",
    "When available, this will be replaced by the paper's citation.\n",
    "\n",
    "In this tutorial, we will introduce how to run the main algorithms featured in the paper.\n",
    "Make sure you have compiled the *max_triplet.cpp* file into a shared library (see *README.txt*)."
   ]
  },
  {
   "attachments": {},
   "cell_type": "markdown",
   "metadata": {},
   "source": [
    "## Input Format\n",
    "\n",
    "All hypergraphs must be in a file with the following format, where $E$ is the set of edges, $U$ is the set of nodes, and $V$ is the set of hyperedges:<br>\n",
    "    &nbsp;&nbsp;&nbsp;&nbsp;&nbsp;&nbsp; $|E|$ $|U|$ $|V|$<br>\n",
    "    &nbsp;&nbsp;&nbsp;&nbsp;&nbsp;&nbsp; $e_1^u$ $e_1^v$<br>\n",
    "    &nbsp;&nbsp;&nbsp;&nbsp;&nbsp;&nbsp; $e_2^u$ $e_2^v$<br>\n",
    "    &nbsp;&nbsp;&nbsp;&nbsp;&nbsp;&nbsp; $e_3^u$ $e_3^v$\n",
    "\n",
    "Example dataset:<br>\n",
    "    &nbsp;&nbsp;&nbsp;&nbsp;&nbsp;&nbsp; 3 2 2<br>\n",
    "    &nbsp;&nbsp;&nbsp;&nbsp;&nbsp;&nbsp; 0 0<br>\n",
    "    &nbsp;&nbsp;&nbsp;&nbsp;&nbsp;&nbsp; 0 1<br>\n",
    "    &nbsp;&nbsp;&nbsp;&nbsp;&nbsp;&nbsp; 1 0\n",
    "\n",
    "All values must be a number, $|U|$ must be larger than the node with the highest id, and $|V|$ must be larger than the hyperedge with the highest id.\n",
    "\n",
    "Let's create a small hypergraph now."
   ]
  },
  {
   "cell_type": "code",
   "execution_count": null,
   "metadata": {},
   "outputs": [],
   "source": [
    "from os.path import exists\n",
    "\n",
    "file_path = \"tutorial.txt\"\n",
    "\n",
    "if exists(file_path):\n",
    "\n",
    "    print(\"{file_path} already exists; skipping graph creation\".format(file_path=file_path))\n",
    "\n",
    "else:\n",
    "    # Key: Hyperedge; Value: List of corresponding nodes\n",
    "    G = {\n",
    "        0: [0, 1],\n",
    "        1: [0, 2],\n",
    "        2: [1, 2],\n",
    "        3: [3],\n",
    "        4: [4],\n",
    "        5: [0, 1],\n",
    "        6: [0, 1, 3]\n",
    "    }\n",
    "\n",
    "    w = open(\"tutorial.txt\", \"w\")\n",
    "\n",
    "    w.write(\"13 5 7 \\n\")\n",
    "\n",
    "    for v, Nv in G.items():\n",
    "        for u in Nv:\n",
    "            w.write(\"{u} {v}\\n\".format(u=u, v=v))\n",
    "\n",
    "    w.close()"
   ]
  },
  {
   "attachments": {},
   "cell_type": "markdown",
   "metadata": {},
   "source": [
    "## Independent Weight\n",
    "\n",
    "The independent weight of a hyperedge triplet is the minimum size of its independent regions divided by the sum of its disjoint and common regions with one."
   ]
  },
  {
   "cell_type": "code",
   "execution_count": null,
   "metadata": {},
   "outputs": [],
   "source": [
    "max_triplet = max_independent(\"tutorial.txt\")\n",
    "\n",
    "print(max_triplet)"
   ]
  },
  {
   "attachments": {},
   "cell_type": "markdown",
   "metadata": {},
   "source": [
    "## Disjoint Weight\n",
    "\n",
    "The disjoint weight of a hyperedge triplet is the minimum size of its disjoint regions divided by the sum of its common region and one."
   ]
  },
  {
   "cell_type": "code",
   "execution_count": null,
   "metadata": {},
   "outputs": [],
   "source": [
    "max_triplet = max_disjoint(\"tutorial.txt\")\n",
    "\n",
    "print(max_triplet)"
   ]
  },
  {
   "attachments": {},
   "cell_type": "markdown",
   "metadata": {},
   "source": [
    "## Common Weight\n",
    "\n",
    "The common weight of a hyperedge triplet is the size of its common region."
   ]
  },
  {
   "cell_type": "code",
   "execution_count": null,
   "metadata": {},
   "outputs": [],
   "source": [
    "max_triplet = max_common(\"tutorial.txt\")\n",
    "\n",
    "print(max_triplet)"
   ]
  },
  {
   "attachments": {},
   "cell_type": "markdown",
   "metadata": {},
   "source": [
    "## Optional Speedup\n",
    "\n",
    "For each algorithm, we include an optional parameter *min_weight* which only considers hyperedge triplets that have a weight greater than *min_weight*. Its default value is 0. The closer *min_weight* is to the maximum weight, the faster the algorithm runs."
   ]
  }
 ],
 "metadata": {
  "kernelspec": {
   "display_name": "Python 3",
   "language": "python",
   "name": "python3"
  },
  "language_info": {
   "codemirror_mode": {
    "name": "ipython",
    "version": 3
   },
   "file_extension": ".py",
   "mimetype": "text/x-python",
   "name": "python",
   "nbconvert_exporter": "python",
   "pygments_lexer": "ipython3",
   "version": "3.8.10 (default, May 26 2023, 14:05:08) \n[GCC 9.4.0]"
  },
  "orig_nbformat": 4,
  "vscode": {
   "interpreter": {
    "hash": "916dbcbb3f70747c44a77c7bcd40155683ae19c65e1c03b4aa3499c5328201f1"
   }
  }
 },
 "nbformat": 4,
 "nbformat_minor": 2
}
